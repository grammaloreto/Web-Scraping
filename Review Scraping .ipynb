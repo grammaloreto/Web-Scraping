{
 "cells": [
  {
   "cell_type": "code",
   "execution_count": 1,
   "id": "1efd1987",
   "metadata": {},
   "outputs": [],
   "source": [
    "# Web Scraping dependencies\n",
    "from bs4 import BeautifulSoup\n",
    "import requests\n",
    "import re"
   ]
  },
  {
   "cell_type": "markdown",
   "id": "c6905625",
   "metadata": {},
   "source": [
    "Collecting and extracting some reviews of the principal beaches in Colombia from a web page. For example Playa Blanca in Cartagena"
   ]
  },
  {
   "cell_type": "code",
   "execution_count": 2,
   "id": "826abc44",
   "metadata": {},
   "outputs": [],
   "source": [
    "data = requests.get(\"https://www.tripadvisor.com/Attraction_Review-g1507145-d2627873-Reviews-Playa_Blanca-Isla_Baru_Cartagena_District_Bolivar_Department.html\")"
   ]
  },
  {
   "cell_type": "code",
   "execution_count": 3,
   "id": "39c81dab",
   "metadata": {},
   "outputs": [],
   "source": [
    "soup = BeautifulSoup(data.text, 'html.parser')"
   ]
  },
  {
   "cell_type": "code",
   "execution_count": 4,
   "id": "db515815",
   "metadata": {},
   "outputs": [],
   "source": [
    "for div in soup.find_all(\"div\"):\n",
    "    regex = re.compile('.*pIRBV.*')\n",
    "    results = soup.find_all('div',{'class':regex})\n",
    "    reviews = [result.text for result in results]"
   ]
  },
  {
   "cell_type": "code",
   "execution_count": 5,
   "id": "3c43ea7d",
   "metadata": {},
   "outputs": [
    {
     "data": {
      "text/plain": [
       "['Terrible road and so many bad things like dirty place with no safety for cars and pedestrians!!! Please don’t go to this place!! People use the sombreros and massages to ask money and it is a very bad experience!!',\n",
       " 'August 30th- The beach and water were really nice but the vendors were extremely annoying. the only way you could avoid them is to go in the water but most of the time they follow you in there too. Behind the beach ( where they cook food) is absolutely disgusting, filled with flies and bugs and poop. The restaurant that we ate at was not too good, food portions were very small and their was very limited menu. There was so many boats in the water and very just a very uncomfortable place to swim. It was not the relaxing day we expected. it was really stressful.',\n",
       " 'Very beautiful beach. I was hesitant to go at first after reading some of the reviews. The best way is to find a good driver who can take you and wait for you. We found a good driver for 65  US dollars. We rented two beds for about 13 US dollars. ',\n",
       " \"A friend who live in Cartegena had a small hut in Playa blanca and he took me out there for the day for a view. It's a 35 minute ride from Cartegena and it range from 45-70 K pesos or public transportation and taxi will range you 20-35K if you want a different adventure. To get to the beach, you turn on a bumpy unpave road that a 1/4 mile long and my first thought was really? A main attraction area with plenty of money coming through and this isn't resolved. But before the turn, there's a bunch of guys trying to stop the car to get paid ahand out. But there's options for boat travel as well that would cost 50K pesos.  I foundthe beach to be dirty with full of makeshift housing with no AC and lots of hammocks to sleep in. It's cool at night but the mosquitos are plentiful and not too many hostel thought of mosquito nets. The food is fine but you're in competition with the flies to eat. Overall, glad it was my friend place and not mines. Not my style of beach living.\",\n",
       " 'Isla barú, Cartagena - ColombiaFirst step is that you are in Cartagena, then you cango in your car or you can take a bus.I was in Barú Island two years ago.in Barú Island, you can swim in the sea, you can fish,you can drive a boat, you can ride in yate, you cango to the luxury hotels, you can drink cocktails,you can drive quad bike, you can do extreme water sports and more.I like Barú island becuase I can do many things, I likethe sea and I like drink cocktails.I liked barú island in general.the services was amazing buy the services was very expensive..I liked the most was the beach.I would go  back because I felt a expercience fantastic.',\n",
       " 'If you want an antithesis of a \"relaxing day at the beach\", by all means go. Or if you  want to have a stressful day or an unusual experience. Unfortunately in the entire Cartagena area, there is a culture of extreme disrespect of tourists. You are viewed as a bag of money and everything is done to make you part with it.Since the very moment you appear on the beach, you are surrounded by peddlers. They will latch onto you and will continuously try to sell something or just find some other way to get your money. This are not your usual beach salesmen. These don\\'t take no for an answer. Every couple of minutes they bother you and forcefully push something onto you. Just like another reviewer said, the only time you can relax is when you are in the water and not too close to the shore. At the end you just want to leave as soon as possible - it feels like a constant war against the peddlers.The snorkeling tour is a joke - you don\\'t get a breathing tube or fins, only masks, so you can\\'t really snorkel. Also there are no corrals or other marine animals, only fish.The beach would have been OK if not for this, but it\\'s nothing special compared to Mexico and other places.',\n",
       " 'I’ve never been more uncomfortable a day in my life, let alone a day that was supposed to be relaxing on the beach. Traveling by car, locals stand in a line in the middle of the road to force your car to stop just to try to sell you a stop on the beach. If you say no, they sprint after your car, reaching in the windows and banging on the doors. When you finally arrive on the beach, you are swarmed by seller after seller, many who don’t want to take no for an answer. The only way to avoid their harassment is to go in the water, which you can only do for so long. On top of this all, the people who you do choose to buy something from are liars. Our check for our breakfast and drinks came and was $250.000 pesos instead of $130.000 pesos. We left the beach early because it was excruciatingly stressful... the exact opposite of what it’s meant to be.',\n",
       " 'Playa Blanca is one of the most beautiful places I have visited😍. White sand, crystal water. RECOMMENDATIONS: 1. Take a tour... it will be cheaper and it includes lunch 🥙 and snacks 2. Only cash💵 is accepted 3. Bring your drinks since they are expensive at the beach (you can rent a cooler with ice for $5)4. ⚠️You will find people offering massages. BE CAREFUL!  Don’t let them touch you ❗️❗️They’ll charge. VERY EXPENSIVE. They won’t even ask if you agree ⚠️ Even If it is only on your feet they will charge!!!',\n",
       " 'Unless you are used to the perils of over crowded third world places I would avoid.  First the road is not in good shape. Next you will litterally be run off the road Litterally! Before arriving by people selling you fake shopping crap   You pay to park then have a rough walk down to three beach. Doable but not for all.  The beach is pretty but practically nobody running the place so jet skis ans boats nearly hit people every 5 minutes.  You will have to bargain for your place to sit. Then expect prices to change when you go to pay. The waves are a bit strong - not for kids   You will be harassed nearly the entire time by people selling crap It may be close to cartegena but just not great. ',\n",
       " 'Very beautiful beach! While it is really touristy, it is definitely worth at least a day trip. We loved it!']"
      ]
     },
     "execution_count": 5,
     "metadata": {},
     "output_type": "execute_result"
    }
   ],
   "source": [
    "reviews"
   ]
  },
  {
   "cell_type": "code",
   "execution_count": 6,
   "id": "47c5a64c",
   "metadata": {},
   "outputs": [],
   "source": [
    "# dependencies to import our reviews into a DataFrame\n",
    "import pandas as pd\n",
    "import numpy as np"
   ]
  },
  {
   "cell_type": "code",
   "execution_count": 7,
   "id": "33d9b4f4",
   "metadata": {},
   "outputs": [],
   "source": [
    "df = pd.DataFrame(np.array(reviews), columns=['review'])"
   ]
  },
  {
   "cell_type": "code",
   "execution_count": 8,
   "id": "cfaf985e",
   "metadata": {},
   "outputs": [
    {
     "data": {
      "text/html": [
       "<div>\n",
       "<style scoped>\n",
       "    .dataframe tbody tr th:only-of-type {\n",
       "        vertical-align: middle;\n",
       "    }\n",
       "\n",
       "    .dataframe tbody tr th {\n",
       "        vertical-align: top;\n",
       "    }\n",
       "\n",
       "    .dataframe thead th {\n",
       "        text-align: right;\n",
       "    }\n",
       "</style>\n",
       "<table border=\"1\" class=\"dataframe\">\n",
       "  <thead>\n",
       "    <tr style=\"text-align: right;\">\n",
       "      <th></th>\n",
       "      <th>review</th>\n",
       "    </tr>\n",
       "  </thead>\n",
       "  <tbody>\n",
       "    <tr>\n",
       "      <th>0</th>\n",
       "      <td>Terrible road and so many bad things like dirt...</td>\n",
       "    </tr>\n",
       "    <tr>\n",
       "      <th>1</th>\n",
       "      <td>August 30th- The beach and water were really n...</td>\n",
       "    </tr>\n",
       "    <tr>\n",
       "      <th>2</th>\n",
       "      <td>Very beautiful beach. I was hesitant to go at ...</td>\n",
       "    </tr>\n",
       "    <tr>\n",
       "      <th>3</th>\n",
       "      <td>A friend who live in Cartegena had a small hut...</td>\n",
       "    </tr>\n",
       "    <tr>\n",
       "      <th>4</th>\n",
       "      <td>Isla barú, Cartagena - ColombiaFirst step is t...</td>\n",
       "    </tr>\n",
       "    <tr>\n",
       "      <th>5</th>\n",
       "      <td>If you want an antithesis of a \"relaxing day a...</td>\n",
       "    </tr>\n",
       "    <tr>\n",
       "      <th>6</th>\n",
       "      <td>I’ve never been more uncomfortable a day in my...</td>\n",
       "    </tr>\n",
       "    <tr>\n",
       "      <th>7</th>\n",
       "      <td>Playa Blanca is one of the most beautiful plac...</td>\n",
       "    </tr>\n",
       "    <tr>\n",
       "      <th>8</th>\n",
       "      <td>Unless you are used to the perils of over crow...</td>\n",
       "    </tr>\n",
       "    <tr>\n",
       "      <th>9</th>\n",
       "      <td>Very beautiful beach! While it is really touri...</td>\n",
       "    </tr>\n",
       "  </tbody>\n",
       "</table>\n",
       "</div>"
      ],
      "text/plain": [
       "                                              review\n",
       "0  Terrible road and so many bad things like dirt...\n",
       "1  August 30th- The beach and water were really n...\n",
       "2  Very beautiful beach. I was hesitant to go at ...\n",
       "3  A friend who live in Cartegena had a small hut...\n",
       "4  Isla barú, Cartagena - ColombiaFirst step is t...\n",
       "5  If you want an antithesis of a \"relaxing day a...\n",
       "6  I’ve never been more uncomfortable a day in my...\n",
       "7  Playa Blanca is one of the most beautiful plac...\n",
       "8  Unless you are used to the perils of over crow...\n",
       "9  Very beautiful beach! While it is really touri..."
      ]
     },
     "execution_count": 8,
     "metadata": {},
     "output_type": "execute_result"
    }
   ],
   "source": [
    "df"
   ]
  },
  {
   "cell_type": "markdown",
   "id": "0e2e2db9",
   "metadata": {},
   "source": [
    "The process is repeated to extract more comments of the same beach and others of Colombia. After having a considerable amount of reviews in Data Frames we can make Sentiment Analysis with transformers (BERT-Hugging Face)."
   ]
  },
  {
   "cell_type": "code",
   "execution_count": null,
   "id": "87b5da95",
   "metadata": {},
   "outputs": [],
   "source": []
  }
 ],
 "metadata": {
  "kernelspec": {
   "display_name": "Python 3 (ipykernel)",
   "language": "python",
   "name": "python3"
  },
  "language_info": {
   "codemirror_mode": {
    "name": "ipython",
    "version": 3
   },
   "file_extension": ".py",
   "mimetype": "text/x-python",
   "name": "python",
   "nbconvert_exporter": "python",
   "pygments_lexer": "ipython3",
   "version": "3.8.8"
  }
 },
 "nbformat": 4,
 "nbformat_minor": 5
}
